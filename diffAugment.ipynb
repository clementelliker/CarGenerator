{
 "cells": [
  {
   "cell_type": "code",
   "execution_count": 1,
   "id": "408c8079-1b83-46be-8cda-574052054480",
   "metadata": {},
   "outputs": [],
   "source": [
    "import torch\n",
    "import matplotlib.pyplot as plt\n",
    "import numpy as np\n",
    "\n",
    "from PIL import Image\n",
    "from torchvision.transforms import ToTensor\n",
    "from torchvision import transforms\n",
    "import glob\n",
    "import torch.nn.functional as F\n",
    "import torch.nn as nn\n",
    "from matplotlib import cm\n",
    "from torch.utils.data import DataLoader\n",
    "from torchvision.datasets import ImageFolder\n",
    "import torchvision.transforms as T\n",
    "from torchvision.utils import make_grid\n",
    "from IPython.display import clear_output\n",
    "import math\n",
    "import time\n",
    "import sys"
   ]
  },
  {
   "cell_type": "code",
   "execution_count": 2,
   "id": "61737ecd-1bba-4147-9b5f-3436ce4e176e",
   "metadata": {},
   "outputs": [],
   "source": [
    "def extractLabels(file, color = np.array([None]), quantile = sys.float_info.max):\n",
    "    \n",
    "    if color.all() != None:\n",
    "        return [np.mean(color)]\n",
    "    \n",
    "    backup = file\n",
    "    if 'nan' in file:\n",
    "        #print(backup)\n",
    "        return None\n",
    "    file = file.split(\"\\\\\")[1]\n",
    "    file = file.split(\"_\", 16)\n",
    "    file[16] = file[16].split('.', 1)[0]\n",
    "    #remove useless labels\n",
    "    del file[16] #'Random string'\n",
    "    del file[15] #'Body Style'\n",
    "    del file[14] #'Passenger Doors',\n",
    "    del file[13] #'Passenger Capacity'\n",
    "    del file[12] #'Drivetrain'\n",
    "    del file[11] #'Gas Mileage'\n",
    "    del file[10] #'Length, Overall (in)'\n",
    "    del file[9] #'Height, Overall (in)'\n",
    "    del file[8] #'Width, Max w/o mirrors (in)'\n",
    "    del file[7] #'Engine Type'\n",
    "    del file[6] #'Displacement'\n",
    "    #del file[5] #'SAE Net Horsepower @ RPM'\n",
    "    del file[4] #'Front Wheel Size (in)'\n",
    "    del file[3] #'MSRP' Prix\n",
    "    del file[2] #'Year'\n",
    "    del file[1] #'Model'\n",
    "    del file[0]#Make'\n",
    "    \n",
    "    try:\n",
    "        file = [int(float(i)) for i in file]\n",
    "    except Exception as e: #get name of file who raises an error\n",
    "        print(backup)\n",
    "        return None\n",
    "    if(file[0] <= quantile):\n",
    "        return file\n",
    "    else:\n",
    "        return None"
   ]
  },
  {
   "cell_type": "code",
   "execution_count": 3,
   "id": "5d1ebdbd-1131-4a41-a668-014834a9284f",
   "metadata": {},
   "outputs": [],
   "source": [
    "def Normalize_labels(labels):\n",
    "    for i in range(labels.shape[1]):\n",
    "        minimum = labels[:,i].min()\n",
    "        maximum = labels[:,i].max()\n",
    "        print(minimum, maximum)\n",
    "        for j in range(labels.shape[0]):\n",
    "            labels[j,i] = (labels[j,i] - minimum)/(maximum - minimum)\n",
    "    return labels  "
   ]
  },
  {
   "cell_type": "code",
   "execution_count": 4,
   "id": "09b7f1e0-896b-4edd-aa04-81075b917b8d",
   "metadata": {},
   "outputs": [
    {
     "name": "stdout",
     "output_type": "stream",
     "text": [
      "tensor(0.0249) tensor(0.9539)\n"
     ]
    }
   ],
   "source": [
    "num = 3000\n",
    "tensorLab_list = []\n",
    "None_id = []\n",
    "i = 0\n",
    "\n",
    "PATH = 'Data/colorsv3.npy'\n",
    "colors = np.load(PATH)\n",
    "\n",
    "q95_RPM = 460\n",
    "\n",
    "\n",
    "for filename in glob.glob('Data/No_background/*.jpg'):\n",
    "    labels = extractLabels(filename, color = colors[i]) #to extract colors\n",
    "    #labels = extractLabels(filename, quantile = q95_RPM)\n",
    "    if labels != None:\n",
    "        tensorLab_list.append(torch.FloatTensor(labels))\n",
    "    else: None_id.append(i)\n",
    "    i += 1\n",
    "    #if i >= num: break\n",
    "    \n",
    "LabelsTens = torch.stack(tensorLab_list)\n",
    "LabelsTens = Normalize_labels(LabelsTens)"
   ]
  },
  {
   "cell_type": "code",
   "execution_count": 5,
   "id": "f766ee3c-399e-451a-913d-9ae09cbb5b5c",
   "metadata": {},
   "outputs": [
    {
     "name": "stdout",
     "output_type": "stream",
     "text": [
      "       ----------------------------------------Loading Data---------------------------------------- \n",
      " [---------------------------------------------------------------------------------------------------100%]\n"
     ]
    }
   ],
   "source": [
    "num = 3000\n",
    "image_size = 32\n",
    "total_files = 19921\n",
    "current_perc = 0\n",
    "\n",
    "tensorIm_list = []\n",
    "i = 0\n",
    "\n",
    "\n",
    "for filename in glob.glob('Data/No_background/*.jpg'):\n",
    "    \n",
    "    image=np.array(Image.open(filename))\n",
    "    \n",
    "    lengths = image.shape\n",
    "    gap = np.abs(lengths[0] - lengths[1])\n",
    "    argm = np.argmax(lengths)\n",
    "    if argm == 0:\n",
    "        pads = [int(gap/2),0,int(gap/2),0]\n",
    "    else:\n",
    "        pads = [0,int(gap/2),0,int(gap/2)]\n",
    "    \n",
    "    \n",
    "    transform=T.Compose([\n",
    "        T.ToPILImage(),\n",
    "        T.Pad(pads, fill = 255),\n",
    "        T.Resize(image_size),\n",
    "        T.ToTensor()])\n",
    "    \n",
    "    image = transform(image)\n",
    "    if(i not in None_id): tensorIm_list.append(image)\n",
    "    if math.floor(i/total_files*100) > current_perc:\n",
    "        current_perc += 1\n",
    "        s = '[' + '-'*current_perc + str(current_perc+1) + '%' + ' '*(99-current_perc)+ ']'\n",
    "        print('       ----------------------------------------Loading Data----------------------------------------', '\\n', s)\n",
    "        clear_output(wait=True)\n",
    "        \n",
    "        \n",
    "    i += 1\n",
    "    #if i >= num: break\n",
    "CarsTens = torch.stack(tensorIm_list)"
   ]
  },
  {
   "cell_type": "code",
   "execution_count": 6,
   "id": "04cf023c-0ef9-481b-a4c7-86a15e588d87",
   "metadata": {},
   "outputs": [
    {
     "name": "stdout",
     "output_type": "stream",
     "text": [
      "torch.Size([19921, 3, 32, 32])\n"
     ]
    }
   ],
   "source": [
    "print(CarsTens.shape)"
   ]
  },
  {
   "cell_type": "code",
   "execution_count": 7,
   "id": "bb2c482e-a80e-4306-8136-f8f4582ab796",
   "metadata": {},
   "outputs": [
    {
     "data": {
      "text/plain": [
       "<matplotlib.image.AxesImage at 0x1c32f2c0ca0>"
      ]
     },
     "execution_count": 7,
     "metadata": {},
     "output_type": "execute_result"
    },
    {
     "data": {
      "image/png": "[encoded data removed]",
      "text/plain": [
       "<Figure size 432x288 with 1 Axes>"
      ]
     },
     "metadata": {
      "needs_background": "light"
     },
     "output_type": "display_data"
    }
   ],
   "source": [
    "plt.imshow(CarsTens[161].permute(1,2,0))"
   ]
  },
  {
   "cell_type": "code",
   "execution_count": 8,
   "id": "5afad4af-9fcd-4690-8a98-3a6acf2ed874",
   "metadata": {},
   "outputs": [],
   "source": [
    "class Train_Dataset(torch.utils.data.Dataset):\n",
    "    'Characterizes a dataset for PyTorch'\n",
    "    def __init__(self):\n",
    "        'Initialization'\n",
    "\n",
    "    def __len__(self):\n",
    "        'Denotes the total number of samples'\n",
    "        #return len(self.list_IDs)\n",
    "        return LabelsTens.shape[0]\n",
    "\n",
    "    def __getitem__(self, index):\n",
    "        'Generates one sample of data'\n",
    "        # Load data and get label\n",
    "        X = CarsTens[index]\n",
    "        y = LabelsTens[index]\n",
    "\n",
    "        return X, y"
   ]
  },
  {
   "cell_type": "code",
   "execution_count": 9,
   "id": "95566ef5-5aea-4a69-985a-601781015a38",
   "metadata": {},
   "outputs": [
    {
     "name": "stdout",
     "output_type": "stream",
     "text": [
      "X_component: torch.Size([32, 3, 32, 32]) \n",
      "Y-component: torch.Size([32, 1])\n"
     ]
    }
   ],
   "source": [
    "batch_size = 32\n",
    "\n",
    "dl = Train_Dataset()\n",
    "train_loader = torch.utils.data.DataLoader(dl, batch_size=batch_size,shuffle=True)\n",
    "test = next(iter(train_loader))\n",
    "print(f\"X_component: {test[0].shape} \\nY-component: {test[1].shape}\")"
   ]
  },
  {
   "cell_type": "code",
   "execution_count": 10,
   "id": "10031e20-e13a-4d9e-a37d-fd22e2cc05ae",
   "metadata": {},
   "outputs": [],
   "source": [
    "def DiffAugment(x, label, policy='color,translation,cutout,flip', channels_first = True, color = False):\n",
    "    initlab = label\n",
    "    if not channels_first:\n",
    "        x = x.permute(0, 3, 1, 2)\n",
    "    for p in policy.split(','):\n",
    "        for f in AUGMENT_FNS[p]:\n",
    "            x, label = f(x, label)\n",
    "    if not channels_first:\n",
    "        x = x.permute(0, 2, 3, 1)\n",
    "    x = x.contiguous()\n",
    "    \n",
    "    return x, (label if color else initlab)"
   ]
  },
  {
   "cell_type": "code",
   "execution_count": 11,
   "id": "f3500a8d-45c3-4482-8593-7c5de74da9c8",
   "metadata": {},
   "outputs": [],
   "source": [
    "def rand_brightness(x, label):\n",
    "    factor = (torch.rand(x.size(0), 1, 1, 1, dtype=x.dtype, device=x.device)*0.5 - 0.25)\n",
    "    change = torch.unsqueeze(factor.reshape(x.size(0)), dim = -1)\n",
    "    #x = x + factor.repeat(1,3,x.shape[2],x.shape[3])*(torch.mean(x, dim = 1, keepdim = True) != 1.)\n",
    "    x = x + factor.repeat(1,3,x.shape[2],x.shape[3])\n",
    "    return x, (label + change)"
   ]
  },
  {
   "cell_type": "code",
   "execution_count": 12,
   "id": "5da04a4c-a611-49e0-b0fb-7c1cb81b0227",
   "metadata": {},
   "outputs": [],
   "source": [
    "def rand_saturation(x, label):\n",
    "    x_mean = x.mean(dim=1, keepdim=True)\n",
    "    factor = (torch.rand(x.size(0), 1, 1, 1, dtype=x.dtype, device=x.device)*2)\n",
    "    change = torch.unsqueeze(factor.reshape(x.size(0)), dim = -1)\n",
    "    x = (x - x_mean) * factor + x_mean\n",
    "    return x, label*change"
   ]
  },
  {
   "cell_type": "code",
   "execution_count": 13,
   "id": "a89938a6-89b3-4e3c-bec1-f8294cd3f516",
   "metadata": {},
   "outputs": [],
   "source": [
    "def rand_translation(x, label, ratio=0.05):\n",
    "    shift_x, shift_y = int(x.size(2) * ratio + 0.5), int(x.size(3) * ratio + 0.5)\n",
    "    translation_x = torch.randint(-shift_x, shift_x + 1, size=[x.size(0), 1, 1], device=x.device)\n",
    "    translation_y = torch.randint(-shift_y, shift_y + 1, size=[x.size(0), 1, 1], device=x.device)\n",
    "    grid_batch, grid_x, grid_y = torch.meshgrid(\n",
    "        torch.arange(x.size(0), dtype=torch.long, device=x.device),\n",
    "        torch.arange(x.size(2), dtype=torch.long, device=x.device),\n",
    "        torch.arange(x.size(3), dtype=torch.long, device=x.device),\n",
    "    )\n",
    "    grid_x = torch.clamp(grid_x + translation_x + 1, 0, x.size(2) + 1)\n",
    "    grid_y = torch.clamp(grid_y + translation_y + 1, 0, x.size(3) + 1)\n",
    "    x_pad = F.pad(x, [1, 1, 1, 1, 0, 0, 0, 0], value = 1.)\n",
    "    x = x_pad.permute(0, 2, 3, 1).contiguous()[grid_batch, grid_x, grid_y].permute(0, 3, 1, 2).contiguous()\n",
    "    return x, label"
   ]
  },
  {
   "cell_type": "code",
   "execution_count": 14,
   "id": "67682fa7-feb0-41d2-871a-9d1fc74f857b",
   "metadata": {},
   "outputs": [],
   "source": [
    "def rand_cutout(x, label, ratio=0.5):\n",
    "    cutout_size = int(x.size(2) * ratio + 0.5), int(x.size(3) * ratio + 0.5)\n",
    "    offset_x = torch.randint(0, x.size(2) + (1 - cutout_size[0] % 2), size=[x.size(0), 1, 1], device=x.device)\n",
    "    offset_y = torch.randint(0, x.size(3) + (1 - cutout_size[1] % 2), size=[x.size(0), 1, 1], device=x.device)\n",
    "    grid_batch, grid_x, grid_y = torch.meshgrid(\n",
    "        torch.arange(x.size(0), dtype=torch.long, device=x.device),\n",
    "        torch.arange(cutout_size[0], dtype=torch.long, device=x.device),\n",
    "        torch.arange(cutout_size[1], dtype=torch.long, device=x.device),\n",
    "    )\n",
    "    grid_x = torch.clamp(grid_x + offset_x - cutout_size[0] // 2, min=0, max=x.size(2) - 1)\n",
    "    grid_y = torch.clamp(grid_y + offset_y - cutout_size[1] // 2, min=0, max=x.size(3) - 1)\n",
    "    mask = torch.ones(x.size(0), x.size(2), x.size(3), dtype=x.dtype, device=x.device)\n",
    "    mask[grid_batch, grid_x, grid_y] = 0\n",
    "    x = x * mask.unsqueeze(1)\n",
    "    return x, label"
   ]
  },
  {
   "cell_type": "code",
   "execution_count": 15,
   "id": "24f0f03a-78e3-4851-81d0-18bb6d5c96a1",
   "metadata": {},
   "outputs": [],
   "source": [
    "def rand_flip(x, label, proba = 0.5):\n",
    "    flips = torch.rand(x.size(0),1,1,1, dtype=x.dtype, device=x.device).repeat(1,3,x.shape[2], x.shape[3])\n",
    "    x = x*(flips <= proba) + torch.flip(x, dims = [3])*(flips > proba)\n",
    "    \n",
    "    return x, label"
   ]
  },
  {
   "cell_type": "code",
   "execution_count": 16,
   "id": "6c18faf1-633e-4076-9494-05c20021d276",
   "metadata": {},
   "outputs": [],
   "source": [
    "AUGMENT_FNS = {\n",
    "    'color': [rand_brightness],\n",
    "    'translation': [rand_translation],\n",
    "    'cutout': [rand_cutout],\n",
    "    'flip': [rand_flip],\n",
    "}"
   ]
  },
  {
   "cell_type": "code",
   "execution_count": 29,
   "id": "9ec81517-5286-4f53-8ff7-6ac8cf706f92",
   "metadata": {},
   "outputs": [
    {
     "name": "stderr",
     "output_type": "stream",
     "text": [
      "Clipping input data to the valid range for imshow with RGB data ([0..1] for floats or [0..255] for integers).\n"
     ]
    },
    {
     "data": {
      "image/png": "[encoded data removed]",
      "text/plain": [
       "<Figure size 360x360 with 4 Axes>"
      ]
     },
     "metadata": {
      "needs_background": "light"
     },
     "output_type": "display_data"
    }
   ],
   "source": [
    "axes=[]\n",
    "fig=plt.figure(figsize = (5,5))\n",
    "\n",
    "pic = []\n",
    "\n",
    "data = next(iter(train_loader))\n",
    "imgs = data[0]\n",
    "labels = data[1]\n",
    "\n",
    "aug, aug_labels = DiffAugment(imgs, labels, color = True)\n",
    "\n",
    "pic.append(imgs[0].permute(1,2,0))\n",
    "pic.append(aug[0].permute(1,2,0))\n",
    "pic.append(labels[0].reshape(1,1))\n",
    "pic.append(aug_labels[0].reshape(1,1))\n",
    "\n",
    "for i in range(4):    \n",
    "    b = pic[i]\n",
    "    axes.append(fig.add_subplot(2,2,i+1))\n",
    "    if i < 2:\n",
    "        plt.imshow(b)\n",
    "    else:\n",
    "        plt.imshow(b, cmap=\"gray\", vmin=0, vmax=1)\n",
    "    plt.axis('off')\n",
    "\n",
    "\n",
    "\n",
    "\n",
    "\n",
    "fig.tight_layout()    \n",
    "plt.show()"
   ]
  },
  {
   "cell_type": "code",
   "execution_count": null,
   "id": "e81079e6-44d0-482c-8a90-894512799909",
   "metadata": {},
   "outputs": [],
   "source": []
  },
  {
   "cell_type": "code",
   "execution_count": null,
   "id": "dab0f5f0-b5d9-441e-a64b-04c35899f3a7",
   "metadata": {},
   "outputs": [],
   "source": []
  }
 ],
 "metadata": {
  "kernelspec": {
   "display_name": "Python 3 (ipykernel)",
   "language": "python",
   "name": "python3"
  },
  "language_info": {
   "codemirror_mode": {
    "name": "ipython",
    "version": 3
   },
   "file_extension": ".py",
   "mimetype": "text/x-python",
   "name": "python",
   "nbconvert_exporter": "python",
   "pygments_lexer": "ipython3",
   "version": "3.9.7"
  }
 },
 "nbformat": 4,
 "nbformat_minor": 5
}
